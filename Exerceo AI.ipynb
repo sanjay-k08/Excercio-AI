{
 "cells": [
  {
   "cell_type": "markdown",
   "id": "8ef4eef5",
   "metadata": {},
   "source": [
    "# Crew AI Agents Development"
   ]
  },
  {
   "cell_type": "code",
   "execution_count": null,
   "id": "6c9274db",
   "metadata": {},
   "outputs": [],
   "source": [
    "# Import Required Libraries\n",
    "from langchain.chat_models import ChatOpenAI\n",
    "from langchain.memory import ConversationBufferMemory"
   ]
  },
  {
   "cell_type": "code",
   "execution_count": 2,
   "id": "25fade9f",
   "metadata": {},
   "outputs": [
    {
     "name": "stderr",
     "output_type": "stream",
     "text": [
      "C:\\Users\\LENOVO\\AppData\\Local\\Temp\\ipykernel_7636\\4129466666.py:2: LangChainDeprecationWarning: The class `ChatOpenAI` was deprecated in LangChain 0.0.10 and will be removed in 1.0. An updated version of the class exists in the :class:`~langchain-openai package and should be used instead. To use it run `pip install -U :class:`~langchain-openai` and import as `from :class:`~langchain_openai import ChatOpenAI``.\n",
      "  llm_agent = ChatOpenAI(\n"
     ]
    }
   ],
   "source": [
    "# Initialize LLM Agent\n",
    "llm_agent = ChatOpenAI(\n",
    "    model=\"gpt-3.5-turbo\",\n",
    "    temperature=0.1,\n",
    "    base_url=\"https://api.nexus.navigatelabsai.com\",\n",
    "    api_key=\"sk-Z6Ql8nCCAtJvE3Lewrvv8A\"\n",
    ")"
   ]
  },
  {
   "cell_type": "markdown",
   "id": "c627d64c",
   "metadata": {},
   "source": [
    "## Planner Agent\n",
    "The Planner Agent interprets fitness goals and returns structured workout plans."
   ]
  },
  {
   "cell_type": "code",
   "execution_count": 3,
   "id": "36ed3211",
   "metadata": {},
   "outputs": [],
   "source": [
    "class PlannerAgent:\n",
    "    def __init__(self, llm):\n",
    "        self.llm = llm\n",
    "\n",
    "    def interpret_goals(self, user_input):\n",
    "        messages = [\n",
    "            {\"role\": \"user\", \"content\": f\"Interpret the following fitness goal and return a structured workout plan: {user_input}\"}\n",
    "        ]\n",
    "        response = self.llm.invoke(input=messages)\n",
    "        # Access the content attribute of the AIMessage object\n",
    "        return response.content\n",
    "\n",
    "    def save_routine(self, memory, routine):\n",
    "        memory.save_context({\"routine\": routine})\n",
    "\n",
    "    def update_routine(self, memory, updated_routine):\n",
    "        memory.save_context({\"updated_routine\": updated_routine})\n",
    "\n",
    "    def handle_intent(self, user_input, intent):\n",
    "        if intent == \"fat loss\":\n",
    "            return self.interpret_goals(f'Fat loss: {user_input}')\n",
    "        elif intent == \"muscle gain\":\n",
    "            return self.interpret_goals(f'Muscle gain: {user_input}')\n",
    "        else:\n",
    "            return \"Unknown intent. Please specify your goal (e.g., fat loss, muscle gain).\""
   ]
  },
  {
   "cell_type": "markdown",
   "id": "a4538076",
   "metadata": {},
   "source": [
    "## Nutrition Agent\n",
    "The Nutrition Agent analyzes meal descriptions, estimates calorie/macronutrient content, and provides suggestions for improvement."
   ]
  },
  {
   "cell_type": "code",
   "execution_count": 4,
   "id": "d64f7ea4",
   "metadata": {},
   "outputs": [],
   "source": [
    "class NutritionAgent:\n",
    "    def __init__(self, llm):\n",
    "        self.llm = llm\n",
    "\n",
    "    def analyze_meal(self, meal_description):\n",
    "        prompt = f'Analyze the following meal description and estimate calorie/macronutrient content: {meal_description}'\n",
    "        response = self.llm.generate(prompt)\n",
    "        return response\n",
    "\n",
    "    def suggest_improvements(self, meal_description, user_goals):\n",
    "        prompt = f'Based on the user\\'s goals ({user_goals}), suggest improvements for the following meal: {meal_description}'\n",
    "        response = self.llm.generate(prompt)\n",
    "        return response"
   ]
  },
  {
   "cell_type": "markdown",
   "id": "d8a8d36c",
   "metadata": {},
   "source": [
    "## Motivator Agent\n",
    "The Motivator Agent generates daily motivational responses and detects engagement drops to send nudges."
   ]
  },
  {
   "cell_type": "code",
   "execution_count": 5,
   "id": "ee5f6f67",
   "metadata": {},
   "outputs": [],
   "source": [
    "class MotivatorAgent:\n",
    "    def __init__(self, llm):\n",
    "        self.llm = llm\n",
    "\n",
    "    def generate_motivation(self):\n",
    "        prompt = 'Generate a daily motivational message.'\n",
    "        response = self.llm.generate(prompt)\n",
    "        return response\n",
    "\n",
    "    def detect_engagement_drop(self, user_activity):\n",
    "        # Logic to detect engagement drop based on user activity\n",
    "        if not user_activity:\n",
    "            return True\n",
    "        return False\n",
    "\n",
    "    def send_nudge(self):\n",
    "        prompt = 'Send a motivational nudge to re-engage the user.'\n",
    "        response = self.llm.generate(prompt)\n",
    "        return response"
   ]
  },
  {
   "cell_type": "markdown",
   "id": "df964a4e",
   "metadata": {},
   "source": [
    "## Progress Logger Agent\n",
    "The Progress Logger Agent parses workout logs, stores sessions, and summarizes weekly highlights."
   ]
  },
  {
   "cell_type": "code",
   "execution_count": 6,
   "id": "dc457c29",
   "metadata": {},
   "outputs": [],
   "source": [
    "class ProgressLoggerAgent:\n",
    "    def __init__(self, llm):\n",
    "        self.llm = llm\n",
    "\n",
    "    def parse_workout_log(self, log):\n",
    "        prompt = f\"Parse the following workout log and extract key details: {log}\"\n",
    "        response = self.llm.generate(prompt)\n",
    "        return response\n",
    "\n",
    "    def store_session(self, memory, session_details):\n",
    "        memory.save_context({\"session\": session_details})\n",
    "\n",
    "    def summarize_weekly_logs(self, logs):\n",
    "        prompt = f\"Summarize the following weekly workout logs with highlights and gaps: {logs}\"\n",
    "        response = self.llm.generate(prompt)\n",
    "        return response"
   ]
  },
  {
   "cell_type": "code",
   "execution_count": 7,
   "id": "5ad34d3f",
   "metadata": {},
   "outputs": [
    {
     "name": "stdout",
     "output_type": "stream",
     "text": [
      "Planner Agent Response: To achieve your goal of losing weight and building stamina, it is important to incorporate a combination of cardiovascular exercise and strength training into your workout routine. Here is a structured workout plan that you can follow:\n",
      "\n",
      "1. Warm-up: Start with a 5-10 minute dynamic warm-up to prepare your muscles for exercise. This can include exercises such as jumping jacks, high knees, and arm circles.\n",
      "\n",
      "2. Cardiovascular exercise: Perform 30-45 minutes of moderate to high-intensity cardio exercise at least 3-4 times per week. This can include activities such as running, cycling, swimming, or using the elliptical machine. Aim to gradually increase the intensity and duration of your cardio workouts over time.\n",
      "\n",
      "3. Strength training: Incorporate strength training exercises into your routine 2-3 times per week. Focus on full-body exercises that target multiple muscle groups, such as squats, lunges, push-ups, and rows. Aim to perform 2-3 sets of 10-15 repetitions for each exercise.\n",
      "\n",
      "4. HIIT workouts: Include high-intensity interval training (HIIT) workouts into your routine 1-2 times per week. These workouts involve alternating between short bursts of intense exercise and periods of rest or lower intensity exercise. This can help improve your cardiovascular fitness and burn more calories in a shorter amount of time.\n",
      "\n",
      "5. Cool down: Finish your workout with a 5-10 minute cool down to help your heart rate return to normal and prevent muscle soreness. This can include stretching exercises for all major muscle groups.\n",
      "\n",
      "6. Rest and recovery: Make sure to allow your body time to rest and recover between workouts. Aim for at least 1-2 rest days per week to prevent overtraining and reduce the risk of injury.\n",
      "\n",
      "Remember to also focus on maintaining a healthy and balanced diet to support your weight loss goals. Consistency and dedication to your workout plan will help you achieve your desired results.\n"
     ]
    }
   ],
   "source": [
    "# Example usage of PlannerAgent\n",
    "planner_agent = PlannerAgent(llm_agent)\n",
    "response = planner_agent.interpret_goals(\"I want to lose weight and build stamina.\")\n",
    "print(\"Planner Agent Response:\", response)"
   ]
  },
  {
   "cell_type": "code",
   "execution_count": null,
   "id": "882ee94c",
   "metadata": {},
   "outputs": [],
   "source": []
  }
 ],
 "metadata": {
  "kernelspec": {
   "display_name": "Python 3",
   "language": "python",
   "name": "python3"
  },
  "language_info": {
   "codemirror_mode": {
    "name": "ipython",
    "version": 3
   },
   "file_extension": ".py",
   "mimetype": "text/x-python",
   "name": "python",
   "nbconvert_exporter": "python",
   "pygments_lexer": "ipython3",
   "version": "3.10.11"
  }
 },
 "nbformat": 4,
 "nbformat_minor": 5
}
